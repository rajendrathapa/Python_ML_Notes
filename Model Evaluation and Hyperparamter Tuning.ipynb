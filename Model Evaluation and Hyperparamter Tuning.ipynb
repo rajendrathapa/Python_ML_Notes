{
 "cells": [
  {
   "cell_type": "code",
   "execution_count": 1,
   "id": "e2f2bf61",
   "metadata": {},
   "outputs": [],
   "source": [
    "import pandas as pd\n",
    "df = pd.read_csv('https://archive.ics.uci.edu/ml/'\n",
    "                 'machine-learning-databases/'\n",
    "                 'breast-cancer-wisconsin/wdbc.data', header=None)"
   ]
  },
  {
   "cell_type": "code",
   "execution_count": 2,
   "id": "164171e6",
   "metadata": {},
   "outputs": [
    {
     "data": {
      "text/html": [
       "<div>\n",
       "<style scoped>\n",
       "    .dataframe tbody tr th:only-of-type {\n",
       "        vertical-align: middle;\n",
       "    }\n",
       "\n",
       "    .dataframe tbody tr th {\n",
       "        vertical-align: top;\n",
       "    }\n",
       "\n",
       "    .dataframe thead th {\n",
       "        text-align: right;\n",
       "    }\n",
       "</style>\n",
       "<table border=\"1\" class=\"dataframe\">\n",
       "  <thead>\n",
       "    <tr style=\"text-align: right;\">\n",
       "      <th></th>\n",
       "      <th>0</th>\n",
       "      <th>1</th>\n",
       "      <th>2</th>\n",
       "      <th>3</th>\n",
       "      <th>4</th>\n",
       "      <th>5</th>\n",
       "      <th>6</th>\n",
       "      <th>7</th>\n",
       "      <th>8</th>\n",
       "      <th>9</th>\n",
       "      <th>...</th>\n",
       "      <th>22</th>\n",
       "      <th>23</th>\n",
       "      <th>24</th>\n",
       "      <th>25</th>\n",
       "      <th>26</th>\n",
       "      <th>27</th>\n",
       "      <th>28</th>\n",
       "      <th>29</th>\n",
       "      <th>30</th>\n",
       "      <th>31</th>\n",
       "    </tr>\n",
       "  </thead>\n",
       "  <tbody>\n",
       "    <tr>\n",
       "      <th>0</th>\n",
       "      <td>842302</td>\n",
       "      <td>M</td>\n",
       "      <td>17.99</td>\n",
       "      <td>10.38</td>\n",
       "      <td>122.80</td>\n",
       "      <td>1001.0</td>\n",
       "      <td>0.11840</td>\n",
       "      <td>0.27760</td>\n",
       "      <td>0.30010</td>\n",
       "      <td>0.14710</td>\n",
       "      <td>...</td>\n",
       "      <td>25.380</td>\n",
       "      <td>17.33</td>\n",
       "      <td>184.60</td>\n",
       "      <td>2019.0</td>\n",
       "      <td>0.16220</td>\n",
       "      <td>0.66560</td>\n",
       "      <td>0.7119</td>\n",
       "      <td>0.2654</td>\n",
       "      <td>0.4601</td>\n",
       "      <td>0.11890</td>\n",
       "    </tr>\n",
       "    <tr>\n",
       "      <th>1</th>\n",
       "      <td>842517</td>\n",
       "      <td>M</td>\n",
       "      <td>20.57</td>\n",
       "      <td>17.77</td>\n",
       "      <td>132.90</td>\n",
       "      <td>1326.0</td>\n",
       "      <td>0.08474</td>\n",
       "      <td>0.07864</td>\n",
       "      <td>0.08690</td>\n",
       "      <td>0.07017</td>\n",
       "      <td>...</td>\n",
       "      <td>24.990</td>\n",
       "      <td>23.41</td>\n",
       "      <td>158.80</td>\n",
       "      <td>1956.0</td>\n",
       "      <td>0.12380</td>\n",
       "      <td>0.18660</td>\n",
       "      <td>0.2416</td>\n",
       "      <td>0.1860</td>\n",
       "      <td>0.2750</td>\n",
       "      <td>0.08902</td>\n",
       "    </tr>\n",
       "    <tr>\n",
       "      <th>2</th>\n",
       "      <td>84300903</td>\n",
       "      <td>M</td>\n",
       "      <td>19.69</td>\n",
       "      <td>21.25</td>\n",
       "      <td>130.00</td>\n",
       "      <td>1203.0</td>\n",
       "      <td>0.10960</td>\n",
       "      <td>0.15990</td>\n",
       "      <td>0.19740</td>\n",
       "      <td>0.12790</td>\n",
       "      <td>...</td>\n",
       "      <td>23.570</td>\n",
       "      <td>25.53</td>\n",
       "      <td>152.50</td>\n",
       "      <td>1709.0</td>\n",
       "      <td>0.14440</td>\n",
       "      <td>0.42450</td>\n",
       "      <td>0.4504</td>\n",
       "      <td>0.2430</td>\n",
       "      <td>0.3613</td>\n",
       "      <td>0.08758</td>\n",
       "    </tr>\n",
       "    <tr>\n",
       "      <th>3</th>\n",
       "      <td>84348301</td>\n",
       "      <td>M</td>\n",
       "      <td>11.42</td>\n",
       "      <td>20.38</td>\n",
       "      <td>77.58</td>\n",
       "      <td>386.1</td>\n",
       "      <td>0.14250</td>\n",
       "      <td>0.28390</td>\n",
       "      <td>0.24140</td>\n",
       "      <td>0.10520</td>\n",
       "      <td>...</td>\n",
       "      <td>14.910</td>\n",
       "      <td>26.50</td>\n",
       "      <td>98.87</td>\n",
       "      <td>567.7</td>\n",
       "      <td>0.20980</td>\n",
       "      <td>0.86630</td>\n",
       "      <td>0.6869</td>\n",
       "      <td>0.2575</td>\n",
       "      <td>0.6638</td>\n",
       "      <td>0.17300</td>\n",
       "    </tr>\n",
       "    <tr>\n",
       "      <th>4</th>\n",
       "      <td>84358402</td>\n",
       "      <td>M</td>\n",
       "      <td>20.29</td>\n",
       "      <td>14.34</td>\n",
       "      <td>135.10</td>\n",
       "      <td>1297.0</td>\n",
       "      <td>0.10030</td>\n",
       "      <td>0.13280</td>\n",
       "      <td>0.19800</td>\n",
       "      <td>0.10430</td>\n",
       "      <td>...</td>\n",
       "      <td>22.540</td>\n",
       "      <td>16.67</td>\n",
       "      <td>152.20</td>\n",
       "      <td>1575.0</td>\n",
       "      <td>0.13740</td>\n",
       "      <td>0.20500</td>\n",
       "      <td>0.4000</td>\n",
       "      <td>0.1625</td>\n",
       "      <td>0.2364</td>\n",
       "      <td>0.07678</td>\n",
       "    </tr>\n",
       "    <tr>\n",
       "      <th>...</th>\n",
       "      <td>...</td>\n",
       "      <td>...</td>\n",
       "      <td>...</td>\n",
       "      <td>...</td>\n",
       "      <td>...</td>\n",
       "      <td>...</td>\n",
       "      <td>...</td>\n",
       "      <td>...</td>\n",
       "      <td>...</td>\n",
       "      <td>...</td>\n",
       "      <td>...</td>\n",
       "      <td>...</td>\n",
       "      <td>...</td>\n",
       "      <td>...</td>\n",
       "      <td>...</td>\n",
       "      <td>...</td>\n",
       "      <td>...</td>\n",
       "      <td>...</td>\n",
       "      <td>...</td>\n",
       "      <td>...</td>\n",
       "      <td>...</td>\n",
       "    </tr>\n",
       "    <tr>\n",
       "      <th>564</th>\n",
       "      <td>926424</td>\n",
       "      <td>M</td>\n",
       "      <td>21.56</td>\n",
       "      <td>22.39</td>\n",
       "      <td>142.00</td>\n",
       "      <td>1479.0</td>\n",
       "      <td>0.11100</td>\n",
       "      <td>0.11590</td>\n",
       "      <td>0.24390</td>\n",
       "      <td>0.13890</td>\n",
       "      <td>...</td>\n",
       "      <td>25.450</td>\n",
       "      <td>26.40</td>\n",
       "      <td>166.10</td>\n",
       "      <td>2027.0</td>\n",
       "      <td>0.14100</td>\n",
       "      <td>0.21130</td>\n",
       "      <td>0.4107</td>\n",
       "      <td>0.2216</td>\n",
       "      <td>0.2060</td>\n",
       "      <td>0.07115</td>\n",
       "    </tr>\n",
       "    <tr>\n",
       "      <th>565</th>\n",
       "      <td>926682</td>\n",
       "      <td>M</td>\n",
       "      <td>20.13</td>\n",
       "      <td>28.25</td>\n",
       "      <td>131.20</td>\n",
       "      <td>1261.0</td>\n",
       "      <td>0.09780</td>\n",
       "      <td>0.10340</td>\n",
       "      <td>0.14400</td>\n",
       "      <td>0.09791</td>\n",
       "      <td>...</td>\n",
       "      <td>23.690</td>\n",
       "      <td>38.25</td>\n",
       "      <td>155.00</td>\n",
       "      <td>1731.0</td>\n",
       "      <td>0.11660</td>\n",
       "      <td>0.19220</td>\n",
       "      <td>0.3215</td>\n",
       "      <td>0.1628</td>\n",
       "      <td>0.2572</td>\n",
       "      <td>0.06637</td>\n",
       "    </tr>\n",
       "    <tr>\n",
       "      <th>566</th>\n",
       "      <td>926954</td>\n",
       "      <td>M</td>\n",
       "      <td>16.60</td>\n",
       "      <td>28.08</td>\n",
       "      <td>108.30</td>\n",
       "      <td>858.1</td>\n",
       "      <td>0.08455</td>\n",
       "      <td>0.10230</td>\n",
       "      <td>0.09251</td>\n",
       "      <td>0.05302</td>\n",
       "      <td>...</td>\n",
       "      <td>18.980</td>\n",
       "      <td>34.12</td>\n",
       "      <td>126.70</td>\n",
       "      <td>1124.0</td>\n",
       "      <td>0.11390</td>\n",
       "      <td>0.30940</td>\n",
       "      <td>0.3403</td>\n",
       "      <td>0.1418</td>\n",
       "      <td>0.2218</td>\n",
       "      <td>0.07820</td>\n",
       "    </tr>\n",
       "    <tr>\n",
       "      <th>567</th>\n",
       "      <td>927241</td>\n",
       "      <td>M</td>\n",
       "      <td>20.60</td>\n",
       "      <td>29.33</td>\n",
       "      <td>140.10</td>\n",
       "      <td>1265.0</td>\n",
       "      <td>0.11780</td>\n",
       "      <td>0.27700</td>\n",
       "      <td>0.35140</td>\n",
       "      <td>0.15200</td>\n",
       "      <td>...</td>\n",
       "      <td>25.740</td>\n",
       "      <td>39.42</td>\n",
       "      <td>184.60</td>\n",
       "      <td>1821.0</td>\n",
       "      <td>0.16500</td>\n",
       "      <td>0.86810</td>\n",
       "      <td>0.9387</td>\n",
       "      <td>0.2650</td>\n",
       "      <td>0.4087</td>\n",
       "      <td>0.12400</td>\n",
       "    </tr>\n",
       "    <tr>\n",
       "      <th>568</th>\n",
       "      <td>92751</td>\n",
       "      <td>B</td>\n",
       "      <td>7.76</td>\n",
       "      <td>24.54</td>\n",
       "      <td>47.92</td>\n",
       "      <td>181.0</td>\n",
       "      <td>0.05263</td>\n",
       "      <td>0.04362</td>\n",
       "      <td>0.00000</td>\n",
       "      <td>0.00000</td>\n",
       "      <td>...</td>\n",
       "      <td>9.456</td>\n",
       "      <td>30.37</td>\n",
       "      <td>59.16</td>\n",
       "      <td>268.6</td>\n",
       "      <td>0.08996</td>\n",
       "      <td>0.06444</td>\n",
       "      <td>0.0000</td>\n",
       "      <td>0.0000</td>\n",
       "      <td>0.2871</td>\n",
       "      <td>0.07039</td>\n",
       "    </tr>\n",
       "  </tbody>\n",
       "</table>\n",
       "<p>569 rows × 32 columns</p>\n",
       "</div>"
      ],
      "text/plain": [
       "           0  1      2      3       4       5        6        7        8   \\\n",
       "0      842302  M  17.99  10.38  122.80  1001.0  0.11840  0.27760  0.30010   \n",
       "1      842517  M  20.57  17.77  132.90  1326.0  0.08474  0.07864  0.08690   \n",
       "2    84300903  M  19.69  21.25  130.00  1203.0  0.10960  0.15990  0.19740   \n",
       "3    84348301  M  11.42  20.38   77.58   386.1  0.14250  0.28390  0.24140   \n",
       "4    84358402  M  20.29  14.34  135.10  1297.0  0.10030  0.13280  0.19800   \n",
       "..        ... ..    ...    ...     ...     ...      ...      ...      ...   \n",
       "564    926424  M  21.56  22.39  142.00  1479.0  0.11100  0.11590  0.24390   \n",
       "565    926682  M  20.13  28.25  131.20  1261.0  0.09780  0.10340  0.14400   \n",
       "566    926954  M  16.60  28.08  108.30   858.1  0.08455  0.10230  0.09251   \n",
       "567    927241  M  20.60  29.33  140.10  1265.0  0.11780  0.27700  0.35140   \n",
       "568     92751  B   7.76  24.54   47.92   181.0  0.05263  0.04362  0.00000   \n",
       "\n",
       "          9   ...      22     23      24      25       26       27      28  \\\n",
       "0    0.14710  ...  25.380  17.33  184.60  2019.0  0.16220  0.66560  0.7119   \n",
       "1    0.07017  ...  24.990  23.41  158.80  1956.0  0.12380  0.18660  0.2416   \n",
       "2    0.12790  ...  23.570  25.53  152.50  1709.0  0.14440  0.42450  0.4504   \n",
       "3    0.10520  ...  14.910  26.50   98.87   567.7  0.20980  0.86630  0.6869   \n",
       "4    0.10430  ...  22.540  16.67  152.20  1575.0  0.13740  0.20500  0.4000   \n",
       "..       ...  ...     ...    ...     ...     ...      ...      ...     ...   \n",
       "564  0.13890  ...  25.450  26.40  166.10  2027.0  0.14100  0.21130  0.4107   \n",
       "565  0.09791  ...  23.690  38.25  155.00  1731.0  0.11660  0.19220  0.3215   \n",
       "566  0.05302  ...  18.980  34.12  126.70  1124.0  0.11390  0.30940  0.3403   \n",
       "567  0.15200  ...  25.740  39.42  184.60  1821.0  0.16500  0.86810  0.9387   \n",
       "568  0.00000  ...   9.456  30.37   59.16   268.6  0.08996  0.06444  0.0000   \n",
       "\n",
       "         29      30       31  \n",
       "0    0.2654  0.4601  0.11890  \n",
       "1    0.1860  0.2750  0.08902  \n",
       "2    0.2430  0.3613  0.08758  \n",
       "3    0.2575  0.6638  0.17300  \n",
       "4    0.1625  0.2364  0.07678  \n",
       "..      ...     ...      ...  \n",
       "564  0.2216  0.2060  0.07115  \n",
       "565  0.1628  0.2572  0.06637  \n",
       "566  0.1418  0.2218  0.07820  \n",
       "567  0.2650  0.4087  0.12400  \n",
       "568  0.0000  0.2871  0.07039  \n",
       "\n",
       "[569 rows x 32 columns]"
      ]
     },
     "execution_count": 2,
     "metadata": {},
     "output_type": "execute_result"
    }
   ],
   "source": [
    "df"
   ]
  },
  {
   "cell_type": "code",
   "execution_count": 12,
   "id": "b03cccbc",
   "metadata": {},
   "outputs": [
    {
     "name": "stdout",
     "output_type": "stream",
     "text": [
      "The target classes  ['B' 'M']  from the dataset are encoded as [0 1] .\n"
     ]
    }
   ],
   "source": [
    "from sklearn.preprocessing import LabelEncoder\n",
    "import numpy as np\n",
    "\n",
    "X,y = df.iloc[:, 2:].values, df.iloc[:,1].values\n",
    "le = LabelEncoder()\n",
    "# Encode the target values ( B, M will be converted to numbers)\n",
    "y = le.fit_transform(y)\n",
    "print(\"The target classes \", le.classes_,\n",
    "      \" from the dataset are encoded as\", le.transform(le.classes_), \".\")\n"
   ]
  },
  {
   "cell_type": "code",
   "execution_count": 13,
   "id": "1040acd5",
   "metadata": {},
   "outputs": [],
   "source": [
    "from sklearn.model_selection import train_test_split\n",
    "\n",
    "X_train, X_test, y_train, y_test = train_test_split(X, y, \n",
    "                                test_size=0.2, stratify=y, random_state=1)"
   ]
  },
  {
   "cell_type": "code",
   "execution_count": 21,
   "id": "82db7a19",
   "metadata": {},
   "outputs": [
    {
     "name": "stdout",
     "output_type": "stream",
     "text": [
      "455 455\n",
      "114 114\n"
     ]
    }
   ],
   "source": [
    "# This is what stratify does\n",
    "print(len(y_train==1),len(y_train==0))\n",
    "print(len(y_test==1), len(y_test==0))"
   ]
  },
  {
   "cell_type": "code",
   "execution_count": 23,
   "id": "32226f01",
   "metadata": {},
   "outputs": [],
   "source": [
    "from sklearn.preprocessing import StandardScaler\n",
    "from sklearn.decomposition import PCA\n",
    "from sklearn.linear_model import LogisticRegression\n",
    "from sklearn.pipeline import make_pipeline\n",
    "\n",
    "pipe_lr = make_pipeline(StandardScaler(),PCA(n_components=2),\n",
    "            LogisticRegression(random_state=1, solver='lbfgs'))"
   ]
  },
  {
   "cell_type": "markdown",
   "id": "13e4399b",
   "metadata": {},
   "source": [
    "- make_pipeline creates an array of _transformers_ and a final _estimator_ \n",
    "- all transformers perform a fit and transform on the data in the order they are listed and the final estimator will perform a fit"
   ]
  },
  {
   "cell_type": "code",
   "execution_count": 24,
   "id": "cdffca89",
   "metadata": {},
   "outputs": [
    {
     "name": "stdout",
     "output_type": "stream",
     "text": [
      "Accuracy: 0.956\n"
     ]
    }
   ],
   "source": [
    "pipe_lr.fit(X_train,y_train)\n",
    "y_pred = pipe_lr.predict(X_test)\n",
    "\n",
    "print(\"Accuracy: %.3f\"% pipe_lr.score(X_test,y_test))"
   ]
  },
  {
   "cell_type": "markdown",
   "id": "9c57bbd5",
   "metadata": {},
   "source": [
    "## Accessing model performance \n",
    "\n",
    "### Holdout cross-validation\n",
    "- separate the data into 3 parts: train, validation, test\n",
    "- tranining dataset is used to fit different models\n",
    "- performance on the validation dataset is then used for model selection\n",
    "- performance estimate will depend on how we partition the data into training and validation subsets\n",
    "### k-fold cross-validation\n",
    "- randomly split the training datasets into k-folds without replacement\n",
    "- k-1 folds are used for model training and the k$^{th}$ fold is used for performance evaluation\n",
    "- procedure repeated k-times to obtain k models and performance estimates\n"
   ]
  },
  {
   "cell_type": "code",
   "execution_count": 35,
   "id": "078fd526",
   "metadata": {},
   "outputs": [],
   "source": [
    "from sklearn.model_selection import StratifiedKFold\n",
    "\n",
    "kfold = StratifiedKFold(n_splits=10).split(X_train,y_train)\n",
    "scores = []"
   ]
  },
  {
   "cell_type": "code",
   "execution_count": 31,
   "id": "39d4a7c3",
   "metadata": {},
   "outputs": [
    {
     "name": "stdout",
     "output_type": "stream",
     "text": [
      "K-fold:  1, Class dist: [256 153], Acc: 0.935\n",
      "K-fold:  2, Class dist: [256 153], Acc: 0.935\n",
      "K-fold:  3, Class dist: [256 153], Acc: 0.957\n",
      "K-fold:  4, Class dist: [256 153], Acc: 0.957\n",
      "K-fold:  5, Class dist: [256 153], Acc: 0.935\n",
      "K-fold:  6, Class dist: [257 153], Acc: 0.956\n",
      "K-fold:  7, Class dist: [257 153], Acc: 0.978\n",
      "K-fold:  8, Class dist: [257 153], Acc: 0.933\n",
      "K-fold:  9, Class dist: [257 153], Acc: 0.956\n",
      "K-fold: 10, Class dist: [257 153], Acc: 0.956\n"
     ]
    }
   ],
   "source": [
    "for k, (train,test) in enumerate(kfold):\n",
    "    pipe_lr.fit(X_train[train],y_train[train])\n",
    "    score = pipe_lr.score(X_train[test], y_train[test])\n",
    "    scores.append(score)\n",
    "    print(\"K-fold: %2d, Class dist: %s, Acc: %.3f\"%(k+1,\n",
    "                        np.bincount(y_train[train]),score))"
   ]
  },
  {
   "cell_type": "code",
   "execution_count": 32,
   "id": "08f4d11e",
   "metadata": {},
   "outputs": [
    {
     "name": "stdout",
     "output_type": "stream",
     "text": [
      "Cross-validation accuracy: 0.950 +/- 0.014\n"
     ]
    }
   ],
   "source": [
    "print(\"Cross-validation accuracy: %.3f +/- %.3f\"%(np.mean(scores), np.std(scores)))"
   ]
  },
  {
   "cell_type": "code",
   "execution_count": 36,
   "id": "1585e17b",
   "metadata": {},
   "outputs": [
    {
     "name": "stdout",
     "output_type": "stream",
     "text": [
      "CV accuracy scores: [0.93478261 0.93478261 0.95652174 0.95652174 0.93478261 0.95555556\n",
      " 0.97777778 0.93333333 0.95555556 0.95555556]\n",
      "Cross-validation accuracy: 0.950 +/- 0.014\n"
     ]
    }
   ],
   "source": [
    "# This can be implemented using sklearn easily\n",
    "\n",
    "from sklearn.model_selection import cross_val_score\n",
    "scores = cross_val_score(estimator=pipe_lr, X=X_train, y=y_train,\n",
    "                        cv=10, n_jobs=2)\n",
    "print(\"CV accuracy scores: %s\" % scores)\n",
    "print(\"Cross-validation accuracy: %.3f +/- %.3f\"%(np.mean(scores), np.std(scores)))"
   ]
  },
  {
   "cell_type": "markdown",
   "id": "8295c7e1",
   "metadata": {},
   "source": [
    "## Debugging with learning and validation curves\n",
    "\n",
    "- High bias\n",
    "    - low training and cross-validation accuracy\n",
    "    - model too simple \n",
    "    - increase no. of parameters\n",
    "    - decresing the degree of regularization (C-parameter in SVM, LR)\n",
    "    \n",
    "- High Variance\n",
    "    - high training accuracty but large gap between training and cross-validation accuracy\n",
    "    - reduce the complexity of the model (cut down features)\n",
    "    - increase the degree of regularization\n",
    "\n",
    "Let us use learning curve function from sklearn for model evaluation"
   ]
  },
  {
   "cell_type": "code",
   "execution_count": 56,
   "id": "f6bb2cb2",
   "metadata": {},
   "outputs": [
    {
     "name": "stdout",
     "output_type": "stream",
     "text": [
      "[1.         1.         0.99344262 0.99754601 0.99166667 0.98571429\n",
      " 0.98601399 0.98746177 0.9888587  0.98924205]\n"
     ]
    }
   ],
   "source": [
    "from sklearn.model_selection import learning_curve\n",
    "import matplotlib.pyplot as plt\n",
    "\n",
    "pipe_lr = make_pipeline(StandardScaler(), LogisticRegression\n",
    "                       (penalty='l2', random_state=10, \n",
    "                       solver='lbfgs', max_iter=10000))\n",
    "train_sizes, train_scores, test_scores = learning_curve(\n",
    "                estimator=pipe_lr, X=X_train, y=y_train, \n",
    "            train_sizes=np.linspace(0.1,1.0,10),\n",
    "            cv=10, n_jobs=2)\n",
    "\n",
    "train_mean = np.mean(train_scores, axis=1)\n",
    "train_std = np.std(train_scores, axis=1)\n",
    "test_mean = np.mean(test_scores, axis=1)\n",
    "test_std = np.std(test_scores, axis=1)\n",
    "\n",
    "print(train_mean)"
   ]
  },
  {
   "cell_type": "code",
   "execution_count": 58,
   "id": "2993baf6",
   "metadata": {},
   "outputs": [
    {
     "data": {
      "image/png": "[encoded data removed]",
      "text/plain": [
       "<Figure size 640x480 with 1 Axes>"
      ]
     },
     "metadata": {},
     "output_type": "display_data"
    }
   ],
   "source": [
    "plt.plot(train_sizes, train_mean, color='b', marker='o',\n",
    "        markersize=5.0, label='Training Accuracy')\n",
    "plt.fill_between(train_sizes, train_mean + train_std, \n",
    "                 train_mean -train_std, alpha=0.15, color='b')\n",
    "\n",
    "plt.plot(train_sizes, test_mean, color='g', marker='o',\n",
    "        markersize=5.0, label='Validation Accuracy')\n",
    "plt.fill_between(train_sizes, test_mean - test_std, \n",
    "                 test_mean + test_std, alpha=0.15, color='g')\n",
    "\n",
    "plt.xlabel(\"Number of training examples\")\n",
    "plt.ylabel(\"Accuracy\")\n",
    "plt.ylim(0.8,1.03)\n",
    "plt.legend(loc='lower right')\n",
    "plt.grid()\n",
    "plt.show()"
   ]
  },
  {
   "cell_type": "markdown",
   "id": "b9d99e5c",
   "metadata": {},
   "source": [
    "Model performs quite well when the training set sizes is over 250. However, at lower number of training examples, the gap between the training and validation accuracy widens suggesting overfitting. \n",
    "\n",
    "## Adressing overfitting and underfitting with validation curves\n",
    "- Validation curves are related to learning curves but instead of plotting accuracies as a function of training set size, the value of the model parameters is adjusted. For e.g. inverse regularization parameter, C, in Logistic Regression"
   ]
  },
  {
   "cell_type": "code",
   "execution_count": 63,
   "id": "50427cce",
   "metadata": {},
   "outputs": [],
   "source": [
    "from sklearn.model_selection import validation_curve\n",
    "\n",
    "c_vals = [10**x for x in [-3,-2,-1,0,1,2]]\n",
    "\n",
    "train_scores, test_scores = validation_curve(estimator=pipe_lr, \n",
    "                    X=X_train, y=y_train, \n",
    "                    param_name = 'logisticregression__C',\n",
    "                    param_range = c_vals,\n",
    "                    cv = 10)      "
   ]
  },
  {
   "cell_type": "code",
   "execution_count": 70,
   "id": "2663fd1b",
   "metadata": {},
   "outputs": [
    {
     "name": "stdout",
     "output_type": "stream",
     "text": [
      "(6, 10)\n",
      "(6, 10)\n"
     ]
    }
   ],
   "source": [
    "print(np.shape(train_scores))\n",
    "print(np.shape(test_scores))"
   ]
  },
  {
   "cell_type": "markdown",
   "id": "2849d244",
   "metadata": {},
   "source": [
    "__The output of the validation_curve will be a matrix of scores__\n",
    "- It will have nrows = length of c_val\n",
    "- It will have ncols = number of folds in k-mean cross validation\n",
    "\n",
    "- train_mean will have mean for each c_val value across all cv folds "
   ]
  },
  {
   "cell_type": "code",
   "execution_count": 72,
   "id": "ac8bf870",
   "metadata": {},
   "outputs": [
    {
     "data": {
      "image/png": "[encoded data removed]",
      "text/plain": [
       "<Figure size 640x480 with 1 Axes>"
      ]
     },
     "metadata": {},
     "output_type": "display_data"
    }
   ],
   "source": [
    "train_mean = np.mean(train_scores, axis=1)\n",
    "train_std = np.std(train_scores, axis=1)\n",
    "test_mean = np.mean(test_scores, axis=1)\n",
    "test_std = np.std(test_scores, axis=1)\n",
    "plt.plot(c_vals, train_mean, color='b', marker='o',\n",
    "        markersize=5.0, label='Training Accuracy')\n",
    "plt.fill_between(c_vals, train_mean + train_std, \n",
    "                 train_mean -train_std, alpha=0.15, color='b')\n",
    "\n",
    "plt.plot(c_vals, test_mean, color='g', marker='o',\n",
    "        markersize=5.0, label='Validation Accuracy')\n",
    "plt.fill_between(c_vals, test_mean - test_std, \n",
    "                 test_mean + test_std, alpha=0.15, color='g')\n",
    "\n",
    "plt.xlabel(\"Inverse Regularization Parameter\")\n",
    "plt.ylabel(\"Accuracy\")\n",
    "plt.ylim(0.8,1.03)\n",
    "plt.xscale('log')\n",
    "plt.legend(loc='lower right')\n",
    "plt.grid()\n",
    "plt.show()"
   ]
  },
  {
   "cell_type": "markdown",
   "id": "65300105",
   "metadata": {},
   "source": [
    "- Underfits for small value of C (higher strength of regularization)\n",
    "- for larger C, (lower strength of regularization), model slightly overfit the data\n",
    "- best value of the C parameter is between 0.01 and 0.1"
   ]
  },
  {
   "cell_type": "markdown",
   "id": "2e2aae8f",
   "metadata": {},
   "source": [
    "## Improving ML models via grid search\n",
    "- Grid search is a hyperparameter optimization technique that can help improve the performance of a model by finding the optimal combination of hyperparameter values\n",
    "- list of hyperparameter values are specified and the algorithm evaluates the model performance of each combination of hyperparameters"
   ]
  },
  {
   "cell_type": "code",
   "execution_count": 74,
   "id": "63531d5e",
   "metadata": {},
   "outputs": [],
   "source": [
    "from sklearn.model_selection import GridSearchCV\n",
    "from sklearn.svm import SVC\n",
    "\n",
    "pipe_svc = make_pipeline(StandardScaler(), SVC(random_state=1))\n",
    "\n",
    "exp = [-4,-3,-2.-1,0,1,2,3]\n",
    "c_vals = np.power(10,exp)\n",
    "\n",
    "c_grid = [{'svc__C':c_vals,'svc__kernel':['linear']},\n",
    "         {'svc__C':c_vals, 'svc__gamma':c_vals,'svc__kernel':['rbf']}]"
   ]
  },
  {
   "cell_type": "code",
   "execution_count": 77,
   "id": "eb312868",
   "metadata": {},
   "outputs": [
    {
     "name": "stdout",
     "output_type": "stream",
     "text": [
      "[{'svc__C': array([1.e-04, 1.e-03, 1.e-03, 1.e+00, 1.e+01, 1.e+02, 1.e+03]), 'svc__kernel': ['linear']}, {'svc__C': array([1.e-04, 1.e-03, 1.e-03, 1.e+00, 1.e+01, 1.e+02, 1.e+03]), 'svc__gamma': array([1.e-04, 1.e-03, 1.e-03, 1.e+00, 1.e+01, 1.e+02, 1.e+03]), 'svc__kernel': ['rbf']}]\n"
     ]
    }
   ],
   "source": [
    "print(c_grid)"
   ]
  },
  {
   "cell_type": "code",
   "execution_count": 78,
   "id": "9e2d0ae7",
   "metadata": {},
   "outputs": [
    {
     "name": "stdout",
     "output_type": "stream",
     "text": [
      "0.9846859903381642\n",
      "{'svc__C': 100.0, 'svc__gamma': 0.001, 'svc__kernel': 'rbf'}\n"
     ]
    }
   ],
   "source": [
    "gs=GridSearchCV(estimator=pipe_svc, param_grid=c_grid,\n",
    "               scoring='accuracy', cv=10, refit=True, n_jobs=5)\n",
    "gs = gs.fit(X_train,y_train)\n",
    "print(gs.best_score_)\n",
    "print(gs.best_params_)"
   ]
  },
  {
   "cell_type": "markdown",
   "id": "2baa4573",
   "metadata": {},
   "source": [
    "__Best k-fold cross validation accuracy of 98.5% using a RBF \n",
    "kernel SVM model with svc__C = 100.0__\n",
    "\n",
    "We can than use the best selected model using the best_estimator_ attribute of GridSearchCV object"
   ]
  },
  {
   "cell_type": "code",
   "execution_count": 79,
   "id": "7ae52378",
   "metadata": {},
   "outputs": [
    {
     "name": "stdout",
     "output_type": "stream",
     "text": [
      "Test Accuracy: 0.974\n"
     ]
    }
   ],
   "source": [
    "clf = gs.best_estimator_\n",
    "clf.fit(X_train, y_train)\n",
    "print(\"Test Accuracy: %.3f\"%clf.score(X_test,y_test))"
   ]
  },
  {
   "cell_type": "markdown",
   "id": "b2bf1b7f",
   "metadata": {},
   "source": [
    "__This is not necessary if the refit=True is set in the GridSearchCV class, becuase the refit parameter will refit the gs.best_estimator_ to the whole training set automatically__\n",
    "\n",
    "### Nested cross-validation assisted algorithm selection\n",
    "- outer k-fold cross-validation loop to split the data into training and test fold\n",
    "- inner loop to select the model using k-fold cv on the training fold\n",
    "\n",
    "Let us look at a $5\\times2$ cross-validation (5 outer loops and 2 inner loops)"
   ]
  },
  {
   "cell_type": "code",
   "execution_count": 80,
   "id": "83968d64",
   "metadata": {},
   "outputs": [],
   "source": [
    "# Inner loop # Tunes the parameter\n",
    "gs=GridSearchCV(estimator=pipe_svc, param_grid=c_grid,\n",
    "               scoring='accuracy', cv=2)"
   ]
  },
  {
   "cell_type": "code",
   "execution_count": 83,
   "id": "d4e5abac",
   "metadata": {},
   "outputs": [
    {
     "name": "stdout",
     "output_type": "stream",
     "text": [
      "CV accuracy: 0.978 +/- 0.017\n"
     ]
    }
   ],
   "source": [
    "# Outer loop # Train with optimal parameters from gs\n",
    "scores = cross_val_score(gs, X_train, y_train, scoring='accuracy', \n",
    "                        cv=5)\n",
    "print(\"CV accuracy: %.3f +/- %.3f\" %(np.mean(scores), np.std(scores)))"
   ]
  },
  {
   "cell_type": "code",
   "execution_count": 84,
   "id": "7275d053",
   "metadata": {},
   "outputs": [
    {
     "data": {
      "text/plain": [
       "array([0.98901099, 0.98901099, 0.94505495, 0.97802198, 0.98901099])"
      ]
     },
     "execution_count": 84,
     "metadata": {},
     "output_type": "execute_result"
    }
   ],
   "source": [
    "scores"
   ]
  },
  {
   "cell_type": "markdown",
   "id": "d7ecc69b",
   "metadata": {},
   "source": [
    "### Nested CV to compare SVM and decision tree\n"
   ]
  },
  {
   "cell_type": "code",
   "execution_count": 86,
   "id": "1f83bad7",
   "metadata": {},
   "outputs": [],
   "source": [
    "from sklearn.tree import DecisionTreeClassifier\n",
    "\n",
    "gs=GridSearchCV(estimator=DecisionTreeClassifier(random_state=0),\n",
    "                param_grid=[{'max_depth':[1,2,3,4,5,6,7,None]}],\n",
    "               scoring='accuracy', cv=2)"
   ]
  },
  {
   "cell_type": "code",
   "execution_count": 87,
   "id": "0a230d94",
   "metadata": {},
   "outputs": [],
   "source": [
    "scores = cross_val_score(gs, X_train, y_train, scoring='accuracy', \n",
    "                        cv=5)"
   ]
  },
  {
   "cell_type": "code",
   "execution_count": 88,
   "id": "0d6a4b18",
   "metadata": {},
   "outputs": [
    {
     "name": "stdout",
     "output_type": "stream",
     "text": [
      "CV accuracy: 0.934 +/- 0.016\n"
     ]
    }
   ],
   "source": [
    "print(\"CV accuracy: %.3f +/- %.3f\" %(np.mean(scores), np.std(scores)))"
   ]
  },
  {
   "cell_type": "markdown",
   "id": "7ea73178",
   "metadata": {},
   "source": [
    "__SVM does better than decision tree__\n",
    "\n",
    "## Model Performance Evaluation Metrics\n",
    "\n",
    "### Confusion Matrix\n",
    "- Square matrix reporting counts of TP, TN, FP, FN predictions of a classifier"
   ]
  },
  {
   "cell_type": "code",
   "execution_count": 89,
   "id": "89c0a03d",
   "metadata": {},
   "outputs": [
    {
     "name": "stdout",
     "output_type": "stream",
     "text": [
      "[[71  1]\n",
      " [ 2 40]]\n"
     ]
    }
   ],
   "source": [
    "from sklearn.metrics import confusion_matrix\n",
    "\n",
    "pipe_svc.fit(X_train,y_train)\n",
    "y_pred = pipe_svc.predict(X_test)\n",
    "conf_mat = confusion_matrix(y_true=y_test, y_pred=y_pred)\n",
    "print(conf_mat)"
   ]
  },
  {
   "cell_type": "code",
   "execution_count": 90,
   "id": "c95f8fd6",
   "metadata": {},
   "outputs": [
    {
     "data": {
      "image/png": "[encoded data removed]",
      "text/plain": [
       "<Figure size 480x480 with 1 Axes>"
      ]
     },
     "metadata": {},
     "output_type": "display_data"
    }
   ],
   "source": [
    "plt.matshow(conf_mat, cmap=plt.cm.Blues, alpha=0.3)\n",
    "for i in range(conf_mat.shape[0]):\n",
    "    for j in range(conf_mat.shape[1]):\n",
    "        plt.text(x=j, y =i, s=conf_mat[i,j], va='center', ha='center')\n",
    "        \n",
    "plt.xlabel('Predicted label')\n",
    "plt.ylabel('True label')\n",
    "\n",
    "plt.show()"
   ]
  },
  {
   "cell_type": "markdown",
   "id": "d8432134",
   "metadata": {},
   "source": [
    "- 0: beingn, 1:malignant\n",
    "- correctly classifies 71 benign tumours\n",
    "- correclty classifies 40 malignant tumours\n",
    "- falsely classifies 2 malignant tumours as benign\n",
    "- falsely classifies 1 benign tumour as malignant\n",
    "\n",
    "### Optimizing precision and recall in a classification model\n",
    "\n",
    "$ERR = \\frac{FP+FN}{FP+FN+TP+TN}$\n",
    "\n",
    "$ACC = 1 - ERR = \\frac{TP+TN}{FP+FN+TP+TN}$\n",
    "\n",
    "$PRE =  \\frac{TP}{TP+FP}$\n",
    "\n",
    "$REC =  \\frac{TP}{FN+TP}$\n",
    "\n",
    "$F1 = 2\\frac{PRE \\times REC}{PRE + REC}$\n"
   ]
  },
  {
   "cell_type": "code",
   "execution_count": 93,
   "id": "fc71564b",
   "metadata": {},
   "outputs": [
    {
     "name": "stdout",
     "output_type": "stream",
     "text": [
      "Precision: 0.976\n",
      "Recall: 0.952\n",
      "F1: 0.964\n"
     ]
    }
   ],
   "source": [
    "from sklearn.metrics import precision_score, recall_score, f1_score\n",
    "\n",
    "print(\"Precision: %.3f\"% precision_score(y_true=y_test,\n",
    "                                        y_pred=y_pred))\n",
    "\n",
    "print(\"Recall: %.3f\"% recall_score(y_true=y_test,\n",
    "                                        y_pred=y_pred))\n",
    "\n",
    "print(\"F1: %.3f\"% f1_score(y_true=y_test,\n",
    "                                        y_pred=y_pred))\n"
   ]
  },
  {
   "cell_type": "code",
   "execution_count": null,
   "id": "6e5bdbcc",
   "metadata": {},
   "outputs": [],
   "source": []
  }
 ],
 "metadata": {
  "kernelspec": {
   "display_name": "Python 3 (ipykernel)",
   "language": "python",
   "name": "python3"
  },
  "language_info": {
   "codemirror_mode": {
    "name": "ipython",
    "version": 3
   },
   "file_extension": ".py",
   "mimetype": "text/x-python",
   "name": "python",
   "nbconvert_exporter": "python",
   "pygments_lexer": "ipython3",
   "version": "3.10.9"
  }
 },
 "nbformat": 4,
 "nbformat_minor": 5
}
