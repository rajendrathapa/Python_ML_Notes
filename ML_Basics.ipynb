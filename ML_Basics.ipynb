{
 "cells": [
  {
   "cell_type": "markdown",
   "id": "908ac066",
   "metadata": {},
   "source": [
    "Machine learning offers a more efficient alternative for capturing the knowledge in data to gradually improve the performance of predictive models and make data-driven decisions.\n",
    "\n",
    "There are three types of machine learning\n",
    "- Supervised Learning\n",
    "    - labeled data\n",
    "    - Direct feedback\n",
    "    - Predict outcome/future\n",
    "- Unsupervised learning\n",
    "    - No labels\n",
    "    - No feedback\n",
    "    - Find hidden structure in data\n",
    "- Reinforcement learning\n",
    "    - Decision process \n",
    "    - Reward system\n",
    "    - Learn series of actions"
   ]
  },
  {
   "cell_type": "markdown",
   "id": "8278448d",
   "metadata": {},
   "source": [
    "## Making predictions about the future with supervised learning\n",
    "\n",
    "- Learn a model  from labeled training data and allow us to make prediction about unseen or future data\n",
    "- Supervised refers to a set of training examples (data inputs) where the desired output signals (labels) are already known\n",
    "- Example: Email spam filtering\n",
    "    - train a model on a corpus of labeled emails, correctly marked as spam or non-spam, to predict whether new emails belongs to either of the two categories. \n",
    "    - email spam filtering is also a classification problem\n",
    "\n",
    "### Classification for predicting class labels\n",
    "- classification is a subcategory of SL where the goal is to predict categorical class labels of new instances, based on past observations\n",
    "- spam email filter: binary classification\n",
    "\n",
    "#### Multiclass Classification\n",
    "- handwritten character recognition "
   ]
  },
  {
   "cell_type": "markdown",
   "id": "de523f2e",
   "metadata": {},
   "source": [
    "## Regression for predicting continuous outcomes\n",
    "- prediction of continuous outcomes called regression analysis\n",
    "- We are given a number of predictor (explanatory) variables and a continuous response variable (outcome) and we try to find a relationship between those variables that allows us to predict an outcome\n",
    "- predictor variables : features\n",
    "- response variables: target variables"
   ]
  },
  {
   "cell_type": "markdown",
   "id": "f95c3738",
   "metadata": {},
   "source": [
    "## Solving interactive problems with Reinforcement Learning\n",
    "- develop a system (agent) that improves its performance based on interactions with the environment\n",
    "- Example: Chess engine"
   ]
  },
  {
   "cell_type": "markdown",
   "id": "5daeef04",
   "metadata": {},
   "source": [
    "## Discovering hidden structures with unsupervised learning\n",
    "\n",
    "- dealing with unlabeled data or data of unknown structure\n",
    "- using UL we are able to explore the structure of out data to extract meaningful information without the guidance of a known outcome or reward function\n",
    "\n",
    "### Finding subgroups with clustering \n",
    "- clustering: organize a pile of information into meaning subgroups (clusters) without any prior knowledge of their group memberships\n",
    "- objects in each cluster share a certain degree of similarity but are more dissimilar to objects in other clusters\n",
    "- clustering is sometimes called __Unsupervised classification__\n",
    "- allow marketers to discover customer groups based on their interests\n",
    "\n",
    "### Dimensionality reduction for data compression\n",
    "- another subfield of unsupervised learning\n",
    "- commonly used approach in feature preprocessing to remove noise from data, and compress the data onto a smaller dimensional subspace while retaining most of the relevant information"
   ]
  },
  {
   "cell_type": "markdown",
   "id": "24ffc6e0",
   "metadata": {},
   "source": [
    "## Notations and conventions used in this book\n",
    "- Each feature will be a column and each sample (instance, observation, example) will be a row in the feature matrix __X__\n",
    "- The iris dataset, consisting of 150 examples and four features, will have a 150x4 feature matrix\n",
    "\n",
    "- $x_i^j$: ith feature value for jth training example\n",
    "- $x_i^{(150)}$: 1st feature of flower 150\n",
    "- target variables (class labels) will eb stored as a 150-dim column vector\n",
    "\n",
    "### Synonyms in ML terminology\n",
    "- Training example: A row in the table representing the dataset. \n",
    "    - synonyms: observation, record, instance, or sample\n",
    "- Training\n",
    "    - synonyms: model fitting, parameter estimation (in parametric models)\n",
    "- Feature (x): A column in data table\n",
    "    - synonyms: predictor, variable, input, attribute, or covariate\n",
    "- Target (y): \n",
    "    - synonyms: outcome, output, response variable, dependent variable, (class) label, and ground truth\n",
    "- Loss function: \n",
    "    - synonyms: cost function, error function"
   ]
  },
  {
   "cell_type": "markdown",
   "id": "fe698ff3",
   "metadata": {},
   "source": [
    "## A roadmap for building ML systems\n",
    "\n",
    "### Preprocessing - getting data into shape\n",
    "- Many ML algorithms also require that the selected features are on the same scale for optimal performance, often achieved by transforming the features in the range [0,1] or a standard normal distribution with zero mean and unit variance\n",
    "- Some selected features may be highly correlated and thus redundant: dimensionality reduction techniques are useful for compressing features into a lower dimensional subspace\n",
    "- dimensionality reduction: less storage is needed and the algorithm can run much faster"
   ]
  },
  {
   "cell_type": "code",
   "execution_count": null,
   "id": "8ab64cd1",
   "metadata": {},
   "outputs": [],
   "source": []
  }
 ],
 "metadata": {
  "kernelspec": {
   "display_name": "Python 3 (ipykernel)",
   "language": "python",
   "name": "python3"
  },
  "language_info": {
   "codemirror_mode": {
    "name": "ipython",
    "version": 3
   },
   "file_extension": ".py",
   "mimetype": "text/x-python",
   "name": "python",
   "nbconvert_exporter": "python",
   "pygments_lexer": "ipython3",
   "version": "3.10.9"
  }
 },
 "nbformat": 4,
 "nbformat_minor": 5
}
